{
 "cells": [
  {
   "cell_type": "markdown",
   "id": "3114f4b4-97ed-4de7-8356-0eae176ba226",
   "metadata": {},
   "source": [
    "## What is EDA - Exploratory Data Analysis\n",
    "\n",
    ">In statistics, exploratory data analysis is an approach of analyzing data sets to summarize their main characteristics, often using statistical graphics and other data visualization methods."
   ]
  },
  {
   "cell_type": "markdown",
   "id": "62f1a08e-30fd-43b7-814d-70c9bbba4ff8",
   "metadata": {},
   "source": [
    "Amazon is one of the leading e-commerce site today. Online shopping has become a trend now a days. But, before shopping online, people usually go to check reviews of consumers on that particular product. According to a research more than 85% of online shopping depends on reviews of the consumers. So, it is necessary to analyze the flaws in low sale of any product. That's why in this project, we am going to explore and analyze Amazon product reviews, that can be used in other similar projects too. Without talking much, let's move towards coding."
   ]
  },
  {
   "cell_type": "markdown",
   "id": "77422f47-199c-4016-8b05-1dbfd02fd4be",
   "metadata": {},
   "source": [
    "#### _Dataset for project consists of different files according to the category of products. Thus, we will perform analysis on them separately one by one_"
   ]
  },
  {
   "cell_type": "markdown",
   "id": "029d3c6d-2487-42f5-b56b-faf5c2c531cd",
   "metadata": {},
   "source": [
    "### Importing all required libraries"
   ]
  },
  {
   "cell_type": "code",
   "execution_count": 7,
   "id": "539d7668-74c8-4505-9c6c-35cb8fa4a668",
   "metadata": {},
   "outputs": [],
   "source": [
    "import pandas as pd\n",
    "import json"
   ]
  },
  {
   "cell_type": "markdown",
   "id": "322f6a77-0e81-4962-b05b-50d8e6a30569",
   "metadata": {},
   "source": [
    "#### Generic Methods to Read all json files in our project"
   ]
  },
  {
   "cell_type": "code",
   "execution_count": 8,
   "id": "f89fdd5d-3f80-4ed5-904a-4fa8f6379ac2",
   "metadata": {},
   "outputs": [],
   "source": [
    "def parse(path):\n",
    "    g = open(path, 'rb')\n",
    "    for l in g:\n",
    "        yield json.loads(l)\n",
    "\n",
    "def getDF(path):\n",
    "    i = 0\n",
    "    df = {}\n",
    "    for d in parse(path):\n",
    "        df[i] = d\n",
    "        i += 1\n",
    "    return pd.DataFrame.from_dict(df, orient='index')"
   ]
  },
  {
   "cell_type": "markdown",
   "id": "098b4452-c53d-4cf1-8b23-a7b1da49270a",
   "metadata": {},
   "source": []
  },
  {
   "cell_type": "code",
   "execution_count": 2,
   "id": "76806d26-35c5-4509-8b65-78e4855e00ff",
   "metadata": {},
   "outputs": [],
   "source": [
    "df = getDF('Magazine_Subscriptions.json')"
   ]
  },
  {
   "cell_type": "code",
   "execution_count": 3,
   "id": "93ac83ee-411a-4f38-8585-43613cc5d7bc",
   "metadata": {},
   "outputs": [
    {
     "data": {
      "text/html": [
       "<div>\n",
       "<style scoped>\n",
       "    .dataframe tbody tr th:only-of-type {\n",
       "        vertical-align: middle;\n",
       "    }\n",
       "\n",
       "    .dataframe tbody tr th {\n",
       "        vertical-align: top;\n",
       "    }\n",
       "\n",
       "    .dataframe thead th {\n",
       "        text-align: right;\n",
       "    }\n",
       "</style>\n",
       "<table border=\"1\" class=\"dataframe\">\n",
       "  <thead>\n",
       "    <tr style=\"text-align: right;\">\n",
       "      <th></th>\n",
       "      <th>overall</th>\n",
       "      <th>vote</th>\n",
       "      <th>verified</th>\n",
       "      <th>reviewTime</th>\n",
       "      <th>reviewerID</th>\n",
       "      <th>asin</th>\n",
       "      <th>reviewerName</th>\n",
       "      <th>reviewText</th>\n",
       "      <th>summary</th>\n",
       "      <th>unixReviewTime</th>\n",
       "      <th>style</th>\n",
       "      <th>image</th>\n",
       "    </tr>\n",
       "  </thead>\n",
       "  <tbody>\n",
       "    <tr>\n",
       "      <th>0</th>\n",
       "      <td>5.0</td>\n",
       "      <td>9</td>\n",
       "      <td>False</td>\n",
       "      <td>11 8, 2001</td>\n",
       "      <td>AH2IFH762VY5U</td>\n",
       "      <td>B00005N7P0</td>\n",
       "      <td>ted sedlmayr</td>\n",
       "      <td>for computer enthusiast, MaxPC is a welcome si...</td>\n",
       "      <td>AVID READER SINCE \"boot\"  WAS THE NAME</td>\n",
       "      <td>1005177600</td>\n",
       "      <td>NaN</td>\n",
       "      <td>NaN</td>\n",
       "    </tr>\n",
       "    <tr>\n",
       "      <th>1</th>\n",
       "      <td>5.0</td>\n",
       "      <td>9</td>\n",
       "      <td>False</td>\n",
       "      <td>10 31, 2001</td>\n",
       "      <td>AOSFI0JEYU4XM</td>\n",
       "      <td>B00005N7P0</td>\n",
       "      <td>Amazon Customer</td>\n",
       "      <td>Thank god this is not a Ziff Davis publication...</td>\n",
       "      <td>The straight scoop</td>\n",
       "      <td>1004486400</td>\n",
       "      <td>NaN</td>\n",
       "      <td>NaN</td>\n",
       "    </tr>\n",
       "    <tr>\n",
       "      <th>2</th>\n",
       "      <td>3.0</td>\n",
       "      <td>14</td>\n",
       "      <td>False</td>\n",
       "      <td>03 24, 2007</td>\n",
       "      <td>A3JPFWKS83R49V</td>\n",
       "      <td>B00005N7OJ</td>\n",
       "      <td>Bryan Carey</td>\n",
       "      <td>Antiques Magazine is a publication made for an...</td>\n",
       "      <td>Antiques Magazine is Good, but not for Everyone</td>\n",
       "      <td>1174694400</td>\n",
       "      <td>{'Format:': ' Print Magazine'}</td>\n",
       "      <td>NaN</td>\n",
       "    </tr>\n",
       "    <tr>\n",
       "      <th>3</th>\n",
       "      <td>5.0</td>\n",
       "      <td>13</td>\n",
       "      <td>False</td>\n",
       "      <td>11 10, 2006</td>\n",
       "      <td>A19FKU6JZQ2ECJ</td>\n",
       "      <td>B00005N7OJ</td>\n",
       "      <td>Patricia L. Porada</td>\n",
       "      <td>This beautiful magazine is in itself a work of...</td>\n",
       "      <td>THE  DISCERNING READER</td>\n",
       "      <td>1163116800</td>\n",
       "      <td>{'Format:': ' Print Magazine'}</td>\n",
       "      <td>NaN</td>\n",
       "    </tr>\n",
       "    <tr>\n",
       "      <th>4</th>\n",
       "      <td>5.0</td>\n",
       "      <td>NaN</td>\n",
       "      <td>True</td>\n",
       "      <td>07 14, 2014</td>\n",
       "      <td>A25MDGOMZ2GALN</td>\n",
       "      <td>B00005N7P0</td>\n",
       "      <td>Alvey</td>\n",
       "      <td>A great read every issue.</td>\n",
       "      <td>Five Stars</td>\n",
       "      <td>1405296000</td>\n",
       "      <td>NaN</td>\n",
       "      <td>NaN</td>\n",
       "    </tr>\n",
       "  </tbody>\n",
       "</table>\n",
       "</div>"
      ],
      "text/plain": [
       "   overall vote  verified   reviewTime      reviewerID        asin  \\\n",
       "0      5.0    9     False   11 8, 2001   AH2IFH762VY5U  B00005N7P0   \n",
       "1      5.0    9     False  10 31, 2001   AOSFI0JEYU4XM  B00005N7P0   \n",
       "2      3.0   14     False  03 24, 2007  A3JPFWKS83R49V  B00005N7OJ   \n",
       "3      5.0   13     False  11 10, 2006  A19FKU6JZQ2ECJ  B00005N7OJ   \n",
       "4      5.0  NaN      True  07 14, 2014  A25MDGOMZ2GALN  B00005N7P0   \n",
       "\n",
       "         reviewerName                                         reviewText  \\\n",
       "0        ted sedlmayr  for computer enthusiast, MaxPC is a welcome si...   \n",
       "1     Amazon Customer  Thank god this is not a Ziff Davis publication...   \n",
       "2         Bryan Carey  Antiques Magazine is a publication made for an...   \n",
       "3  Patricia L. Porada  This beautiful magazine is in itself a work of...   \n",
       "4               Alvey                          A great read every issue.   \n",
       "\n",
       "                                           summary  unixReviewTime  \\\n",
       "0           AVID READER SINCE \"boot\"  WAS THE NAME      1005177600   \n",
       "1                               The straight scoop      1004486400   \n",
       "2  Antiques Magazine is Good, but not for Everyone      1174694400   \n",
       "3                           THE  DISCERNING READER      1163116800   \n",
       "4                                       Five Stars      1405296000   \n",
       "\n",
       "                            style image  \n",
       "0                             NaN   NaN  \n",
       "1                             NaN   NaN  \n",
       "2  {'Format:': ' Print Magazine'}   NaN  \n",
       "3  {'Format:': ' Print Magazine'}   NaN  \n",
       "4                             NaN   NaN  "
      ]
     },
     "execution_count": 3,
     "metadata": {},
     "output_type": "execute_result"
    }
   ],
   "source": [
    "df.head()"
   ]
  },
  {
   "cell_type": "code",
   "execution_count": 4,
   "id": "e746192d-b571-4dd9-8266-76ceac336562",
   "metadata": {},
   "outputs": [],
   "source": [
    "ratings = []\n",
    "\n",
    "for review in parse(\"Magazine_Subscriptions.json\"):\n",
    "    ratings.append(review['overall'])"
   ]
  },
  {
   "cell_type": "code",
   "execution_count": 5,
   "id": "b08aa657-4195-4ffa-b099-bca65849f21c",
   "metadata": {},
   "outputs": [
    {
     "name": "stdout",
     "output_type": "stream",
     "text": [
      "4.0366377147699275\n"
     ]
    }
   ],
   "source": [
    "print(sum(ratings) / len(ratings))"
   ]
  },
  {
   "cell_type": "code",
   "execution_count": 6,
   "id": "cac1af72-7bc5-4222-ba6a-59b037c045d7",
   "metadata": {},
   "outputs": [],
   "source": [
    "# df.to_csv('Magazine.csv', index=False)"
   ]
  },
  {
   "cell_type": "code",
   "execution_count": null,
   "id": "6064f6a3-cb2b-454e-a599-541a8c6ce785",
   "metadata": {},
   "outputs": [],
   "source": []
  }
 ],
 "metadata": {
  "kernelspec": {
   "display_name": "Python 3 (ipykernel)",
   "language": "python",
   "name": "python3"
  },
  "language_info": {
   "codemirror_mode": {
    "name": "ipython",
    "version": 3
   },
   "file_extension": ".py",
   "mimetype": "text/x-python",
   "name": "python",
   "nbconvert_exporter": "python",
   "pygments_lexer": "ipython3",
   "version": "3.9.6"
  }
 },
 "nbformat": 4,
 "nbformat_minor": 5
}
